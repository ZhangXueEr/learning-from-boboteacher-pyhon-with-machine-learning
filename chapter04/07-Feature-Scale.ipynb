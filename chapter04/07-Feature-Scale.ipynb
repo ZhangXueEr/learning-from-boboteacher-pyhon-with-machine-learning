{
 "cells": [
  {
   "cell_type": "markdown",
   "metadata": {},
   "source": [
    "# 数据归一化处理"
   ]
  },
  {
   "cell_type": "code",
   "execution_count": 1,
   "metadata": {},
   "outputs": [],
   "source": [
    "import numpy as np\n",
    "import matplotlib.pyplot as plt"
   ]
  },
  {
   "cell_type": "markdown",
   "metadata": {},
   "source": [
    "## 最值归一化 Normalization\n",
    "\n",
    "#### 适合于数据有明显边界，如学生的分数0-100分，手写数字像素0-255等，不适合与收入，有极端值的情况"
   ]
  },
  {
   "cell_type": "code",
   "execution_count": 2,
   "metadata": {},
   "outputs": [],
   "source": [
    "x = np.random.randint(0, 100, 100)"
   ]
  },
  {
   "cell_type": "code",
   "execution_count": 3,
   "metadata": {},
   "outputs": [
    {
     "data": {
      "text/plain": [
       "array([73, 73, 60, 17, 98, 89, 74, 99, 54,  7, 94, 48, 84, 33, 19, 72, 56,\n",
       "       71, 33, 93, 55, 71, 39, 18, 77, 40, 12, 26, 38, 33, 25, 47, 62, 80,\n",
       "       56, 42, 93, 88, 12,  5, 26, 50, 21, 31, 75, 33, 72, 95, 35, 37, 94,\n",
       "        2, 92, 48,  0, 37,  2, 53,  5, 60, 48, 77, 99, 25, 86, 51, 18, 88,\n",
       "       71, 18, 50, 27, 61, 51, 49,  6, 35, 16, 49, 79, 34, 71, 49, 67,  3,\n",
       "       48, 33, 36,  1, 89, 94,  8, 56, 67, 86, 88,  0, 72, 35, 78])"
      ]
     },
     "execution_count": 3,
     "metadata": {},
     "output_type": "execute_result"
    }
   ],
   "source": [
    "x"
   ]
  },
  {
   "cell_type": "code",
   "execution_count": 4,
   "metadata": {},
   "outputs": [
    {
     "data": {
      "text/plain": [
       "array([0.73737374, 0.73737374, 0.60606061, 0.17171717, 0.98989899,\n",
       "       0.8989899 , 0.74747475, 1.        , 0.54545455, 0.07070707,\n",
       "       0.94949495, 0.48484848, 0.84848485, 0.33333333, 0.19191919,\n",
       "       0.72727273, 0.56565657, 0.71717172, 0.33333333, 0.93939394,\n",
       "       0.55555556, 0.71717172, 0.39393939, 0.18181818, 0.77777778,\n",
       "       0.4040404 , 0.12121212, 0.26262626, 0.38383838, 0.33333333,\n",
       "       0.25252525, 0.47474747, 0.62626263, 0.80808081, 0.56565657,\n",
       "       0.42424242, 0.93939394, 0.88888889, 0.12121212, 0.05050505,\n",
       "       0.26262626, 0.50505051, 0.21212121, 0.31313131, 0.75757576,\n",
       "       0.33333333, 0.72727273, 0.95959596, 0.35353535, 0.37373737,\n",
       "       0.94949495, 0.02020202, 0.92929293, 0.48484848, 0.        ,\n",
       "       0.37373737, 0.02020202, 0.53535354, 0.05050505, 0.60606061,\n",
       "       0.48484848, 0.77777778, 1.        , 0.25252525, 0.86868687,\n",
       "       0.51515152, 0.18181818, 0.88888889, 0.71717172, 0.18181818,\n",
       "       0.50505051, 0.27272727, 0.61616162, 0.51515152, 0.49494949,\n",
       "       0.06060606, 0.35353535, 0.16161616, 0.49494949, 0.7979798 ,\n",
       "       0.34343434, 0.71717172, 0.49494949, 0.67676768, 0.03030303,\n",
       "       0.48484848, 0.33333333, 0.36363636, 0.01010101, 0.8989899 ,\n",
       "       0.94949495, 0.08080808, 0.56565657, 0.67676768, 0.86868687,\n",
       "       0.88888889, 0.        , 0.72727273, 0.35353535, 0.78787879])"
      ]
     },
     "execution_count": 4,
     "metadata": {},
     "output_type": "execute_result"
    }
   ],
   "source": [
    "(x - np.min(x)) / (np.max(x) - np.min(x))"
   ]
  },
  {
   "cell_type": "code",
   "execution_count": 5,
   "metadata": {},
   "outputs": [],
   "source": [
    "X = np.random.randint(0, 100, (50, 2))"
   ]
  },
  {
   "cell_type": "code",
   "execution_count": 7,
   "metadata": {},
   "outputs": [
    {
     "data": {
      "text/plain": [
       "array([[44, 78],\n",
       "       [62, 18],\n",
       "       [63, 17],\n",
       "       [22,  2],\n",
       "       [16, 90],\n",
       "       [75, 18],\n",
       "       [90, 43],\n",
       "       [86, 35],\n",
       "       [14, 77],\n",
       "       [73, 61]])"
      ]
     },
     "execution_count": 7,
     "metadata": {},
     "output_type": "execute_result"
    }
   ],
   "source": [
    "X[:10, :]"
   ]
  },
  {
   "cell_type": "code",
   "execution_count": 8,
   "metadata": {},
   "outputs": [],
   "source": [
    "X = np.array(X, dtype=float)"
   ]
  },
  {
   "cell_type": "code",
   "execution_count": 9,
   "metadata": {},
   "outputs": [
    {
     "data": {
      "text/plain": [
       "array([[44., 78.],\n",
       "       [62., 18.],\n",
       "       [63., 17.],\n",
       "       [22.,  2.],\n",
       "       [16., 90.],\n",
       "       [75., 18.],\n",
       "       [90., 43.],\n",
       "       [86., 35.],\n",
       "       [14., 77.],\n",
       "       [73., 61.]])"
      ]
     },
     "execution_count": 9,
     "metadata": {},
     "output_type": "execute_result"
    }
   ],
   "source": [
    "X[:10, :]"
   ]
  },
  {
   "cell_type": "code",
   "execution_count": 10,
   "metadata": {},
   "outputs": [],
   "source": [
    "X[:, 0] = (X[:, 0] - np.min(X[:, 0])) / (np.max(X[:, 0]) - np.min(X[:, 0]))\n",
    "X[:, 1] = (X[:, 1] - np.min(X[:, 1])) / (np.max(X[:, 1]) - np.min(X[:, 1]))"
   ]
  },
  {
   "cell_type": "code",
   "execution_count": 11,
   "metadata": {},
   "outputs": [
    {
     "data": {
      "text/plain": [
       "array([[0.45833333, 0.82978723],\n",
       "       [0.64583333, 0.19148936],\n",
       "       [0.65625   , 0.18085106],\n",
       "       [0.22916667, 0.0212766 ],\n",
       "       [0.16666667, 0.95744681],\n",
       "       [0.78125   , 0.19148936],\n",
       "       [0.9375    , 0.45744681],\n",
       "       [0.89583333, 0.37234043],\n",
       "       [0.14583333, 0.81914894],\n",
       "       [0.76041667, 0.64893617]])"
      ]
     },
     "execution_count": 11,
     "metadata": {},
     "output_type": "execute_result"
    }
   ],
   "source": [
    "X[:10, :]"
   ]
  },
  {
   "cell_type": "code",
   "execution_count": 13,
   "metadata": {},
   "outputs": [
    {
     "data": {
      "image/png": "[encoded data removed]",
      "text/plain": [
       "<Figure size 432x288 with 1 Axes>"
      ]
     },
     "metadata": {
      "needs_background": "light"
     },
     "output_type": "display_data"
    }
   ],
   "source": [
    "plt.scatter(X[:, 0], X[:, 1])\n",
    "plt.show()"
   ]
  },
  {
   "cell_type": "code",
   "execution_count": 14,
   "metadata": {},
   "outputs": [
    {
     "data": {
      "text/plain": [
       "0.49541666666666656"
      ]
     },
     "execution_count": 14,
     "metadata": {},
     "output_type": "execute_result"
    }
   ],
   "source": [
    "np.mean(X[:, 0])"
   ]
  },
  {
   "cell_type": "code",
   "execution_count": 15,
   "metadata": {},
   "outputs": [
    {
     "data": {
      "text/plain": [
       "0.302414760717793"
      ]
     },
     "execution_count": 15,
     "metadata": {},
     "output_type": "execute_result"
    }
   ],
   "source": [
    "np.std(X[:, 0])"
   ]
  },
  {
   "cell_type": "code",
   "execution_count": 16,
   "metadata": {},
   "outputs": [
    {
     "data": {
      "text/plain": [
       "0.5095744680851064"
      ]
     },
     "execution_count": 16,
     "metadata": {},
     "output_type": "execute_result"
    }
   ],
   "source": [
    "np.mean(X[:, 1])"
   ]
  },
  {
   "cell_type": "code",
   "execution_count": 17,
   "metadata": {},
   "outputs": [
    {
     "data": {
      "text/plain": [
       "0.32401433218360776"
      ]
     },
     "execution_count": 17,
     "metadata": {},
     "output_type": "execute_result"
    }
   ],
   "source": [
    "np.std(X[:, 1])"
   ]
  },
  {
   "cell_type": "markdown",
   "metadata": {},
   "source": [
    "## 均值方差归一化 Standardlization"
   ]
  },
  {
   "cell_type": "code",
   "execution_count": 18,
   "metadata": {},
   "outputs": [],
   "source": [
    "X2 = np.random.randint(0, 100, (50, 2))"
   ]
  },
  {
   "cell_type": "code",
   "execution_count": 19,
   "metadata": {},
   "outputs": [],
   "source": [
    "X2 = np.array(X2, dtype=float)"
   ]
  },
  {
   "cell_type": "code",
   "execution_count": 24,
   "metadata": {},
   "outputs": [],
   "source": [
    "X2[:, 0] = (X2[:, 0] - np.mean(X2[:, 0])) / np.std(X2[:, 0])\n",
    "X2[:, 1] = (X2[:, 1] - np.mean(X2[:, 1])) / np.std(X2[:, 1])"
   ]
  },
  {
   "cell_type": "code",
   "execution_count": 25,
   "metadata": {},
   "outputs": [
    {
     "data": {
      "image/png": "[encoded data removed]",
      "text/plain": [
       "<Figure size 432x288 with 1 Axes>"
      ]
     },
     "metadata": {
      "needs_background": "light"
     },
     "output_type": "display_data"
    }
   ],
   "source": [
    "plt.scatter(X2[:, 0], X2[:, 1])\n",
    "plt.show()"
   ]
  },
  {
   "cell_type": "code",
   "execution_count": 26,
   "metadata": {},
   "outputs": [
    {
     "data": {
      "text/plain": [
       "-1.897038082177005e-14"
      ]
     },
     "execution_count": 26,
     "metadata": {},
     "output_type": "execute_result"
    }
   ],
   "source": [
    "np.mean(X2[:, 0])"
   ]
  },
  {
   "cell_type": "code",
   "execution_count": 27,
   "metadata": {},
   "outputs": [
    {
     "data": {
      "text/plain": [
       "1.0"
      ]
     },
     "execution_count": 27,
     "metadata": {},
     "output_type": "execute_result"
    }
   ],
   "source": [
    "np.std(X2[:, 1])"
   ]
  },
  {
   "cell_type": "code",
   "execution_count": null,
   "metadata": {},
   "outputs": [],
   "source": []
  }
 ],
 "metadata": {
  "kernelspec": {
   "display_name": "Python [conda env:python37]",
   "language": "python",
   "name": "conda-env-python37-py"
  },
  "language_info": {
   "codemirror_mode": {
    "name": "ipython",
    "version": 3
   },
   "file_extension": ".py",
   "mimetype": "text/x-python",
   "name": "python",
   "nbconvert_exporter": "python",
   "pygments_lexer": "ipython3",
   "version": "3.7.6"
  }
 },
 "nbformat": 4,
 "nbformat_minor": 2
}
